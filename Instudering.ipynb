{
 "cells": [
  {
   "cell_type": "code",
   "execution_count": 133,
   "metadata": {},
   "outputs": [],
   "source": [
    "import numpy as np\n",
    "import matplotlib.pyplot as plt\n",
    "import pandas as pd\n",
    "\n",
    "c = 299792458\n",
    "h = 6.626 * 10**(-34)\n",
    "e = 1.602 * 10**(-19)\n",
    "laser_wavelength = 632  # in nm\n",
    "raman_shifts_cm = np.array([1350, 1580, 2700])  # D band, G band, 2D band in cm⁻¹\n"
   ]
  },
  {
   "cell_type": "code",
   "execution_count": 134,
   "metadata": {},
   "outputs": [],
   "source": [
    "# wavelength in nm\n",
    "def lam_to_GHz(lam):\n",
    "    return c/(lam*10**(-9)) * 10**(-9)\n",
    "def lam_to_eV(lam):\n",
    "    return c/(lam*10**(-9)) * h /e\n",
    "def lam_to_wave(lam):\n",
    "    return 0.01/(lam*10**(-9))"
   ]
  },
  {
   "cell_type": "code",
   "execution_count": 135,
   "metadata": {},
   "outputs": [
    {
     "data": {
      "text/html": [
       "<div>\n",
       "<style scoped>\n",
       "    .dataframe tbody tr th:only-of-type {\n",
       "        vertical-align: middle;\n",
       "    }\n",
       "\n",
       "    .dataframe tbody tr th {\n",
       "        vertical-align: top;\n",
       "    }\n",
       "\n",
       "    .dataframe thead th {\n",
       "        text-align: right;\n",
       "    }\n",
       "</style>\n",
       "<table border=\"1\" class=\"dataframe\">\n",
       "  <thead>\n",
       "    <tr style=\"text-align: right;\">\n",
       "      <th></th>\n",
       "      <th>Xray</th>\n",
       "      <th>UV</th>\n",
       "      <th>Visible</th>\n",
       "      <th>Near IR</th>\n",
       "      <th>Mid IR</th>\n",
       "      <th>Far IR</th>\n",
       "      <th>THz Radiation</th>\n",
       "    </tr>\n",
       "  </thead>\n",
       "  <tbody>\n",
       "    <tr>\n",
       "      <th>nm</th>\n",
       "      <td>1.0e-02--1.0e+01</td>\n",
       "      <td>1.0e+01--4.0e+02</td>\n",
       "      <td>4.0e+02--7.0e+02</td>\n",
       "      <td>7.5e+02--1.4e+03</td>\n",
       "      <td>1.4e+03--1.5e+04</td>\n",
       "      <td>1.5e+04--1.0e+06</td>\n",
       "      <td>1.0e+05--1.0e+06</td>\n",
       "    </tr>\n",
       "    <tr>\n",
       "      <th>GHz</th>\n",
       "      <td>3.0e+10--3.0e+07</td>\n",
       "      <td>3.0e+07--7.5e+05</td>\n",
       "      <td>7.5e+05--4.3e+05</td>\n",
       "      <td>4.0e+05--2.1e+05</td>\n",
       "      <td>2.1e+05--2.0e+04</td>\n",
       "      <td>2.0e+04--3.0e+02</td>\n",
       "      <td>3.0e+03--3.0e+02</td>\n",
       "    </tr>\n",
       "    <tr>\n",
       "      <th>eV</th>\n",
       "      <td>1.2e+05--1.2e+02</td>\n",
       "      <td>1.2e+02--3.1e+00</td>\n",
       "      <td>3.1e+00--1.8e+00</td>\n",
       "      <td>1.7e+00--8.9e-01</td>\n",
       "      <td>8.9e-01--8.3e-02</td>\n",
       "      <td>8.3e-02--1.2e-03</td>\n",
       "      <td>1.2e-02--1.2e-03</td>\n",
       "    </tr>\n",
       "    <tr>\n",
       "      <th>cm-1</th>\n",
       "      <td>1.0e+09--1.0e+06</td>\n",
       "      <td>1.0e+06--2.5e+04</td>\n",
       "      <td>2.5e+04--1.4e+04</td>\n",
       "      <td>1.3e+04--7.1e+03</td>\n",
       "      <td>7.1e+03--6.7e+02</td>\n",
       "      <td>6.7e+02--1.0e+01</td>\n",
       "      <td>1.0e+02--1.0e+01</td>\n",
       "    </tr>\n",
       "  </tbody>\n",
       "</table>\n",
       "</div>"
      ],
      "text/plain": [
       "                  Xray                UV           Visible           Near IR  \\\n",
       "nm    1.0e-02--1.0e+01  1.0e+01--4.0e+02  4.0e+02--7.0e+02  7.5e+02--1.4e+03   \n",
       "GHz   3.0e+10--3.0e+07  3.0e+07--7.5e+05  7.5e+05--4.3e+05  4.0e+05--2.1e+05   \n",
       "eV    1.2e+05--1.2e+02  1.2e+02--3.1e+00  3.1e+00--1.8e+00  1.7e+00--8.9e-01   \n",
       "cm-1  1.0e+09--1.0e+06  1.0e+06--2.5e+04  2.5e+04--1.4e+04  1.3e+04--7.1e+03   \n",
       "\n",
       "                Mid IR            Far IR     THz Radiation  \n",
       "nm    1.4e+03--1.5e+04  1.5e+04--1.0e+06  1.0e+05--1.0e+06  \n",
       "GHz   2.1e+05--2.0e+04  2.0e+04--3.0e+02  3.0e+03--3.0e+02  \n",
       "eV    8.9e-01--8.3e-02  8.3e-02--1.2e-03  1.2e-02--1.2e-03  \n",
       "cm-1  7.1e+03--6.7e+02  6.7e+02--1.0e+01  1.0e+02--1.0e+01  "
      ]
     },
     "execution_count": 135,
     "metadata": {},
     "output_type": "execute_result"
    }
   ],
   "source": [
    "# a1\n",
    "\n",
    "DiffRegions = []\n",
    "Regions = ['Xray', 'UV', 'Visible', 'Near IR', 'Mid IR', 'Far IR', 'THz Radiation']\n",
    "Regions_wavelength = ['0.01--10', '10--400', '400--700', '750--1400', '1400--15000', '15000--1000000', '100000--1000000']\n",
    "\n",
    "NewRegions_wavelength = []\n",
    "for interval in Regions_wavelength:\n",
    "    splitter = '--'\n",
    "    NewRegions_wavelength.append('--'.join((f'{float(interval.split(splitter)[0]):.1e}', f'{float(interval.split(splitter)[1]):.1e}')))\n",
    "DiffRegions.append(NewRegions_wavelength)\n",
    "\n",
    "f = [lam_to_GHz, lam_to_eV, lam_to_wave]\n",
    "Units = ['nm', 'GHz', 'eV', 'cm-1']\n",
    "\n",
    "for func in f:\n",
    "    NewUnit = []\n",
    "    for region in Regions_wavelength:\n",
    "        splitter='--'\n",
    "        a = f'{func(float(region.split(splitter)[0])):.1e}'\n",
    "        b = f'{func(float(region.split(splitter)[1])):.1e}'\n",
    "        NewUnit.append('--'.join((a,b)))\n",
    "    DiffRegions.append(NewUnit)\n",
    "\n",
    "Dataframe = pd.DataFrame(DiffRegions, columns=Regions, index=Units)\n",
    "\n",
    "Dataframe"
   ]
  },
  {
   "cell_type": "code",
   "execution_count": 136,
   "metadata": {},
   "outputs": [
    {
     "data": {
      "image/png": "[encoded data removed]",
      "text/plain": [
       "<Figure size 640x480 with 1 Axes>"
      ]
     },
     "metadata": {},
     "output_type": "display_data"
    }
   ],
   "source": [
    "# a2\n",
    "\n",
    "\n",
    "# Convert laser wavelength to cm (1 nm = 1e-7 cm)\n",
    "laser_wavelength_cm = laser_wavelength * 1e-7\n",
    "\n",
    "# Calculate Raman wavelengths using the formula\n",
    "raman_wavelengths_nm_low = 1e7 / ((1 / laser_wavelength_cm) - (raman_shifts_cm / 1e7))\n",
    "raman_wavelengths_nm_high = 1e7 / ((1 / laser_wavelength_cm) + (raman_shifts_cm / 1e7))\n",
    "\n",
    "\n",
    "# Convert the result back to nm\n",
    "D = [raman_wavelengths_nm_low[0], raman_wavelengths_nm_high[0], 'b']\n",
    "G = [raman_wavelengths_nm_low[1], raman_wavelengths_nm_high[1], 'g']\n",
    "twoD = [raman_wavelengths_nm_low[2], raman_wavelengths_nm_high[2], 'r']\n",
    "y = np.zeros(2)\n",
    "plt.axvline(D[0], color=D[2], label='D')\n",
    "plt.axvline(D[1], color=D[2])\n",
    "\n",
    "plt.axvline(G[0], color=G[2], label='G')\n",
    "plt.axvline(G[1], color=G[2])\n",
    "\n",
    "plt.axvline(twoD[0], color=twoD[2], label='2D')\n",
    "plt.axvline(twoD[1], color=twoD[2])\n",
    "\n",
    "plt.axvline(laser_wavelength, label = '632 nm', color='purple')\n",
    "plt.legend()\n",
    "plt.title('Wavelength of the different bands')\n",
    "plt.xlabel('nm')\n",
    "plt.xlim((631.999987, 632.000013))\n",
    "plt.yticks([])\n",
    "plt.grid()\n",
    "plt.show()"
   ]
  },
  {
   "cell_type": "code",
   "execution_count": 137,
   "metadata": {},
   "outputs": [
    {
     "name": "stdout",
     "output_type": "stream",
     "text": [
      "The force constant is somewhere between 8.96 and 12.9 (N/m) for a c-c bond, using that the wavenumber of the vibration is 1000-1200 cm^-1\n"
     ]
    }
   ],
   "source": [
    "# a3\n",
    "\n",
    "c_c_wavenumber = np.array([1000, 1200])\n",
    "c_c_vm = c_c_wavenumber/0.01 * c /(2*np.pi)\n",
    "c_m = 1.9944733 * 10**(-26) #mass of carbon atom in kg\n",
    "mu = c_m/2\n",
    "K = c_c_vm**2 * (2*np.pi)**2 * mu\n",
    "\n",
    "print(f'The force constant is somewhere between {K[0]:.2f} and {K[1]:.1f} (N/m) for a c-c bond, using that the wavenumber of the vibration is 1000-1200 cm^-1')"
   ]
  },
  {
   "cell_type": "markdown",
   "metadata": {},
   "source": [
    "**b1**\n",
    "\n",
    "(Explain why pure Graphene does not show a D band)\n",
    "\n",
    "\n",
    "The D band is associated to the disorder in the structure. Pure graphene has nearly no disorder and that is why the D band does not show. \n"
   ]
  },
  {
   "cell_type": "markdown",
   "metadata": {},
   "source": [
    "**b2**\n",
    "\n",
    "(Explain why the Raman spectrum of pure graphene may show a D band upon electrochemical cycling vs. lithium)\n",
    "\n",
    "The apperance of the D band of pure graphene after electrochemical cycling versus lithium  due to introduction of disorder. "
   ]
  },
  {
   "cell_type": "markdown",
   "metadata": {},
   "source": [
    "**c1**"
   ]
  },
  {
   "cell_type": "markdown",
   "metadata": {},
   "source": [
    "Looking at the capacity\n",
    "$$\n",
    "Capacity = \\frac{nF}{m}\n",
    "$$\n",
    "We can see that if we only change $n$ to the double amount, we get double the capacity. The answer to the question would then be 744 $\\text{mAhg}^{-1}$"
   ]
  },
  {
   "cell_type": "markdown",
   "metadata": {},
   "source": [
    "**c2**"
   ]
  },
  {
   "cell_type": "markdown",
   "metadata": {},
   "source": [
    "In our case, intercalation is the process of inserting ions between the weakly bonded graphene layers."
   ]
  }
 ],
 "metadata": {
  "kernelspec": {
   "display_name": "Python 3",
   "language": "python",
   "name": "python3"
  },
  "language_info": {
   "codemirror_mode": {
    "name": "ipython",
    "version": 3
   },
   "file_extension": ".py",
   "mimetype": "text/x-python",
   "name": "python",
   "nbconvert_exporter": "python",
   "pygments_lexer": "ipython3",
   "version": "3.11.9"
  }
 },
 "nbformat": 4,
 "nbformat_minor": 2
}
