{
 "cells": [
  {
   "cell_type": "code",
   "execution_count": 1,
   "metadata": {},
   "outputs": [
    {
     "name": "stderr",
     "output_type": "stream",
     "text": [
      "C:\\Users\\kelme\\AppData\\Local\\Temp\\ipykernel_20808\\715858236.py:3: DeprecationWarning: \n",
      "Pyarrow will become a required dependency of pandas in the next major release of pandas (pandas 3.0),\n",
      "(to allow more performant data types, such as the Arrow string type, and better interoperability with other libraries)\n",
      "but was not found to be installed on your system.\n",
      "If this would cause problems for you,\n",
      "please provide us feedback at https://github.com/pandas-dev/pandas/issues/54466\n",
      "        \n",
      "  import pandas as pd\n"
     ]
    }
   ],
   "source": [
    "import numpy as np\n",
    "import matplotlib.pyplot as plt\n",
    "import pandas as pd\n",
    "\n",
    "c = 299792458\n",
    "h = 6.626 * 10**(-34)\n",
    "e = 1.602 * 10**(-19)"
   ]
  },
  {
   "cell_type": "code",
   "execution_count": 2,
   "metadata": {},
   "outputs": [],
   "source": [
    "def lam_to_GHz(lam):\n",
    "    return c/lam * 10**(-9)\n",
    "def lam_to_eV(lam):\n",
    "    return c/lam * h /e\n",
    "def lam_to_wave(lam):\n",
    "    return 0.01/lam"
   ]
  },
  {
   "cell_type": "code",
   "execution_count": 8,
   "metadata": {},
   "outputs": [
    {
     "data": {
      "text/html": [
       "<div>\n",
       "<style scoped>\n",
       "    .dataframe tbody tr th:only-of-type {\n",
       "        vertical-align: middle;\n",
       "    }\n",
       "\n",
       "    .dataframe tbody tr th {\n",
       "        vertical-align: top;\n",
       "    }\n",
       "\n",
       "    .dataframe thead th {\n",
       "        text-align: right;\n",
       "    }\n",
       "</style>\n",
       "<table border=\"1\" class=\"dataframe\">\n",
       "  <thead>\n",
       "    <tr style=\"text-align: right;\">\n",
       "      <th></th>\n",
       "      <th>Xray</th>\n",
       "      <th>UV</th>\n",
       "      <th>Visible</th>\n",
       "      <th>Near IR</th>\n",
       "      <th>Mid IR</th>\n",
       "      <th>Far IR</th>\n",
       "      <th>THz Radiation</th>\n",
       "    </tr>\n",
       "  </thead>\n",
       "  <tbody>\n",
       "    <tr>\n",
       "      <th>GHz</th>\n",
       "      <td>3.0e+01-3.0e-02</td>\n",
       "      <td>3.0e-02-7.5e-04</td>\n",
       "      <td>7.5e-04-4.3e-04</td>\n",
       "      <td>4.0e-04-2.1e-04</td>\n",
       "      <td>2.1e-04-2.0e-05</td>\n",
       "      <td>2.0e-05-3.0e-07</td>\n",
       "      <td>3.0e-06-3.0e-07</td>\n",
       "    </tr>\n",
       "    <tr>\n",
       "      <th>eV</th>\n",
       "      <td>1.2e-04-1.2e-07</td>\n",
       "      <td>1.2e-07-3.1e-09</td>\n",
       "      <td>3.1e-09-1.8e-09</td>\n",
       "      <td>1.7e-09-8.9e-10</td>\n",
       "      <td>8.9e-10-8.3e-11</td>\n",
       "      <td>8.3e-11-1.2e-12</td>\n",
       "      <td>1.2e-11-1.2e-12</td>\n",
       "    </tr>\n",
       "    <tr>\n",
       "      <th>cm-1</th>\n",
       "      <td>1.0e+00-1.0e-03</td>\n",
       "      <td>1.0e-03-2.5e-05</td>\n",
       "      <td>2.5e-05-1.4e-05</td>\n",
       "      <td>1.3e-05-7.1e-06</td>\n",
       "      <td>7.1e-06-6.7e-07</td>\n",
       "      <td>6.7e-07-1.0e-08</td>\n",
       "      <td>1.0e-07-1.0e-08</td>\n",
       "    </tr>\n",
       "  </tbody>\n",
       "</table>\n",
       "</div>"
      ],
      "text/plain": [
       "                 Xray               UV          Visible          Near IR  \\\n",
       "GHz   3.0e+01-3.0e-02  3.0e-02-7.5e-04  7.5e-04-4.3e-04  4.0e-04-2.1e-04   \n",
       "eV    1.2e-04-1.2e-07  1.2e-07-3.1e-09  3.1e-09-1.8e-09  1.7e-09-8.9e-10   \n",
       "cm-1  1.0e+00-1.0e-03  1.0e-03-2.5e-05  2.5e-05-1.4e-05  1.3e-05-7.1e-06   \n",
       "\n",
       "               Mid IR           Far IR    THz Radiation  \n",
       "GHz   2.1e-04-2.0e-05  2.0e-05-3.0e-07  3.0e-06-3.0e-07  \n",
       "eV    8.9e-10-8.3e-11  8.3e-11-1.2e-12  1.2e-11-1.2e-12  \n",
       "cm-1  7.1e-06-6.7e-07  6.7e-07-1.0e-08  1.0e-07-1.0e-08  "
      ]
     },
     "execution_count": 8,
     "metadata": {},
     "output_type": "execute_result"
    }
   ],
   "source": [
    "DiffRegions = []\n",
    "Regions = ['Xray', 'UV', 'Visible', 'Near IR', 'Mid IR', 'Far IR', 'THz Radiation']\n",
    "Regions_wavelength = ['0.01-10', '10-400', '400-700', '750-1400', '1400-15000', '15000-1000000', '100000-1000000']\n",
    "#Regions.append(Regions_wavelength)\n",
    "f = [lam_to_GHz, lam_to_eV, lam_to_wave]\n",
    "Units = ['GHz', 'eV', 'cm-1']\n",
    "for func in f:\n",
    "    NewUnit = []\n",
    "    for region in Regions_wavelength:\n",
    "        splitter='-'\n",
    "        a = f'{func(float(region.split(splitter)[0])):.1e}'\n",
    "        b = f'{func(float(region.split(splitter)[1])):.1e}'\n",
    "        NewUnit.append('-'.join((a,b)))\n",
    "    DiffRegions.append(NewUnit)\n",
    "\n",
    "Dataframe = pd.DataFrame(DiffRegions, columns=Regions, index=Units)\n",
    "\n",
    "Dataframe"
   ]
  },
  {
   "cell_type": "code",
   "execution_count": null,
   "metadata": {},
   "outputs": [],
   "source": []
  }
 ],
 "metadata": {
  "kernelspec": {
   "display_name": "Python 3",
   "language": "python",
   "name": "python3"
  },
  "language_info": {
   "codemirror_mode": {
    "name": "ipython",
    "version": 3
   },
   "file_extension": ".py",
   "mimetype": "text/x-python",
   "name": "python",
   "nbconvert_exporter": "python",
   "pygments_lexer": "ipython3",
   "version": "3.11.9"
  }
 },
 "nbformat": 4,
 "nbformat_minor": 2
}
